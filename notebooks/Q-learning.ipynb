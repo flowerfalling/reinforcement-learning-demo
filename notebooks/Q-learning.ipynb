{
 "cells": [
  {
   "cell_type": "code",
   "execution_count": 112,
   "metadata": {
    "collapsed": true,
    "ExecuteTime": {
     "end_time": "2023-05-20T16:56:23.801441200Z",
     "start_time": "2023-05-20T16:56:23.729159400Z"
    }
   },
   "outputs": [],
   "source": [
    "import numpy as np\n",
    "import pandas as pd\n",
    "import time"
   ]
  },
  {
   "cell_type": "code",
   "execution_count": 113,
   "outputs": [],
   "source": [
    "np.random.seed(2)\n",
    "\n",
    "N_STATE = 6\n",
    "ACTIONS = ['left', 'right']\n",
    "EPSILON = 0.9\n",
    "ALPHA = 0.1\n",
    "LAMBDA = 0.9\n",
    "MAX_EPISODES = 13\n",
    "FRESH_TIME = 0.2"
   ],
   "metadata": {
    "collapsed": false,
    "ExecuteTime": {
     "end_time": "2023-05-20T16:56:23.809437600Z",
     "start_time": "2023-05-20T16:56:23.761451700Z"
    }
   }
  },
  {
   "cell_type": "code",
   "execution_count": 114,
   "outputs": [],
   "source": [
    "def build_q_table(n_state, actions):\n",
    "    table = pd.DataFrame(\n",
    "        np.zeros((n_state, len(actions))),\n",
    "        columns=actions\n",
    "    )\n",
    "    return table"
   ],
   "metadata": {
    "collapsed": false,
    "ExecuteTime": {
     "end_time": "2023-05-20T16:56:23.809437600Z",
     "start_time": "2023-05-20T16:56:23.769426100Z"
    }
   }
  },
  {
   "cell_type": "code",
   "execution_count": 115,
   "outputs": [
    {
     "data": {
      "text/plain": "   left  right\n0   0.0    0.0\n1   0.0    0.0\n2   0.0    0.0\n3   0.0    0.0\n4   0.0    0.0\n5   0.0    0.0",
      "text/html": "<div>\n<style scoped>\n    .dataframe tbody tr th:only-of-type {\n        vertical-align: middle;\n    }\n\n    .dataframe tbody tr th {\n        vertical-align: top;\n    }\n\n    .dataframe thead th {\n        text-align: right;\n    }\n</style>\n<table border=\"1\" class=\"dataframe\">\n  <thead>\n    <tr style=\"text-align: right;\">\n      <th></th>\n      <th>left</th>\n      <th>right</th>\n    </tr>\n  </thead>\n  <tbody>\n    <tr>\n      <th>0</th>\n      <td>0.0</td>\n      <td>0.0</td>\n    </tr>\n    <tr>\n      <th>1</th>\n      <td>0.0</td>\n      <td>0.0</td>\n    </tr>\n    <tr>\n      <th>2</th>\n      <td>0.0</td>\n      <td>0.0</td>\n    </tr>\n    <tr>\n      <th>3</th>\n      <td>0.0</td>\n      <td>0.0</td>\n    </tr>\n    <tr>\n      <th>4</th>\n      <td>0.0</td>\n      <td>0.0</td>\n    </tr>\n    <tr>\n      <th>5</th>\n      <td>0.0</td>\n      <td>0.0</td>\n    </tr>\n  </tbody>\n</table>\n</div>"
     },
     "execution_count": 115,
     "metadata": {},
     "output_type": "execute_result"
    }
   ],
   "source": [
    "build_q_table(N_STATE, ACTIONS)"
   ],
   "metadata": {
    "collapsed": false,
    "ExecuteTime": {
     "end_time": "2023-05-20T16:56:23.809437600Z",
     "start_time": "2023-05-20T16:56:23.793419Z"
    }
   }
  },
  {
   "cell_type": "code",
   "execution_count": 116,
   "outputs": [],
   "source": [
    "def choose_action(state, q_table: pd.DataFrame):\n",
    "    state_action = q_table.iloc[state, :]\n",
    "    if np.random.uniform() > EPSILON or not state_action.all():\n",
    "        return np.random.choice(ACTIONS)\n",
    "    else:\n",
    "        return ACTIONS[state_action.argmax()]"
   ],
   "metadata": {
    "collapsed": false,
    "ExecuteTime": {
     "end_time": "2023-05-20T16:56:23.819289700Z",
     "start_time": "2023-05-20T16:56:23.801441200Z"
    }
   }
  },
  {
   "cell_type": "code",
   "execution_count": 117,
   "outputs": [],
   "source": [
    "def get_env_feedback(state, action):\n",
    "    new_state = 0\n",
    "    reward = 0\n",
    "    if action == 'right':\n",
    "        if state == N_STATE - 2:\n",
    "            new_state = 'terminal'\n",
    "            reward = 1\n",
    "        else:\n",
    "            new_state = state + 1\n",
    "    else:\n",
    "        if  state:\n",
    "            new_state = state - 1\n",
    "    return new_state, reward"
   ],
   "metadata": {
    "collapsed": false,
    "ExecuteTime": {
     "end_time": "2023-05-20T16:56:23.858185Z",
     "start_time": "2023-05-20T16:56:23.819289700Z"
    }
   }
  },
  {
   "cell_type": "code",
   "execution_count": 118,
   "outputs": [],
   "source": [
    "def update_env(state, episode, step_counter):\n",
    "    env_list  = ['-'] * (N_STATE - 1) + ['T']\n",
    "    if state == 'terminal':\n",
    "        print(f'\\rEpisode {episode + 1}: total step = {step_counter}', end='')\n",
    "        time.sleep(2)\n",
    "        print('\\r                           ', end='')\n",
    "    else:\n",
    "        env_list[state] = 'o'\n",
    "        print('\\r' + ''.join(env_list), end='')\n",
    "        time.sleep(FRESH_TIME)"
   ],
   "metadata": {
    "collapsed": false,
    "ExecuteTime": {
     "end_time": "2023-05-20T16:56:23.898196400Z",
     "start_time": "2023-05-20T16:56:23.833852700Z"
    }
   }
  },
  {
   "cell_type": "code",
   "execution_count": 119,
   "outputs": [],
   "source": [
    "def rl():\n",
    "    q_table = build_q_table(N_STATE, ACTIONS)\n",
    "    for episode in range(MAX_EPISODES):\n",
    "        step_counter = 0\n",
    "        state = 0\n",
    "        is_tetminaled = False\n",
    "        update_env(state, episode, step_counter)\n",
    "        while not is_tetminaled:\n",
    "            action = choose_action(state, q_table)\n",
    "            new_state, reward = get_env_feedback(state, action)\n",
    "            q_predict = q_table[action][state]\n",
    "            if new_state != 'terminal':\n",
    "                q_target = reward + LAMBDA * q_table.iloc[new_state, :].max()\n",
    "            else:\n",
    "                q_target = reward\n",
    "                is_tetminaled = True\n",
    "\n",
    "            q_table[action][state] += ALPHA * (q_target - q_predict)\n",
    "            state = new_state\n",
    "            step_counter += 1\n",
    "            update_env(state, episode, step_counter)\n",
    "    return q_table"
   ],
   "metadata": {
    "collapsed": false,
    "ExecuteTime": {
     "end_time": "2023-05-20T16:56:24.124991200Z",
     "start_time": "2023-05-20T16:56:23.858185Z"
    }
   }
  },
  {
   "cell_type": "code",
   "execution_count": 120,
   "outputs": [
    {
     "name": "stdout",
     "output_type": "stream",
     "text": [
      "                           \r\n",
      "Q-table:\n",
      "\n"
     ]
    },
    {
     "data": {
      "text/plain": "       left     right\n0  0.000001  0.005728\n1  0.000271  0.032612\n2  0.002454  0.111724\n3  0.000073  0.343331\n4  0.000810  0.745813\n5  0.000000  0.000000",
      "text/html": "<div>\n<style scoped>\n    .dataframe tbody tr th:only-of-type {\n        vertical-align: middle;\n    }\n\n    .dataframe tbody tr th {\n        vertical-align: top;\n    }\n\n    .dataframe thead th {\n        text-align: right;\n    }\n</style>\n<table border=\"1\" class=\"dataframe\">\n  <thead>\n    <tr style=\"text-align: right;\">\n      <th></th>\n      <th>left</th>\n      <th>right</th>\n    </tr>\n  </thead>\n  <tbody>\n    <tr>\n      <th>0</th>\n      <td>0.000001</td>\n      <td>0.005728</td>\n    </tr>\n    <tr>\n      <th>1</th>\n      <td>0.000271</td>\n      <td>0.032612</td>\n    </tr>\n    <tr>\n      <th>2</th>\n      <td>0.002454</td>\n      <td>0.111724</td>\n    </tr>\n    <tr>\n      <th>3</th>\n      <td>0.000073</td>\n      <td>0.343331</td>\n    </tr>\n    <tr>\n      <th>4</th>\n      <td>0.000810</td>\n      <td>0.745813</td>\n    </tr>\n    <tr>\n      <th>5</th>\n      <td>0.000000</td>\n      <td>0.000000</td>\n    </tr>\n  </tbody>\n</table>\n</div>"
     },
     "execution_count": 120,
     "metadata": {},
     "output_type": "execute_result"
    }
   ],
   "source": [
    "Q_table = rl()\n",
    "print('\\r\\nQ-table:\\n')\n",
    "Q_table"
   ],
   "metadata": {
    "collapsed": false,
    "ExecuteTime": {
     "end_time": "2023-05-20T16:57:17.158601200Z",
     "start_time": "2023-05-20T16:56:23.866185900Z"
    }
   }
  }
 ],
 "metadata": {
  "kernelspec": {
   "display_name": "Python 3",
   "language": "python",
   "name": "python3"
  },
  "language_info": {
   "codemirror_mode": {
    "name": "ipython",
    "version": 2
   },
   "file_extension": ".py",
   "mimetype": "text/x-python",
   "name": "python",
   "nbconvert_exporter": "python",
   "pygments_lexer": "ipython2",
   "version": "2.7.6"
  }
 },
 "nbformat": 4,
 "nbformat_minor": 0
}
